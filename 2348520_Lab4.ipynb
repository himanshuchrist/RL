{
 "cells": [
  {
   "cell_type": "markdown",
   "id": "1191d2eb-908c-4f00-a5e9-cf4b302b3ce4",
   "metadata": {},
   "source": [
    "## Lab 4: Develop a program to perform policy evaluation and improvement for a given MDP"
   ]
  },
  {
   "cell_type": "code",
   "execution_count": 3,
   "id": "37344f17-1807-4e41-bcaa-09e53260864e",
   "metadata": {},
   "outputs": [],
   "source": [
    "import numpy as np\n",
    "\n",
    "grid = np.array([\n",
    "    [0, 0, 0, 1],\n",
    "    [0, 3, 0, 2],\n",
    "    [0, 0, 0, 0]\n",
    "])\n",
    "\n",
    "rewards = {0: -0.04, 1: 1, 2: -1, 3: 0}  # Define rewards for each type\n",
    "discount_factor = 0.9\n",
    "tolerance = 1e-4\n",
    "\n",
    "actions = ['up', 'down', 'left', 'right']\n",
    "action_effects = {\n",
    "    'up': (-1, 0),\n",
    "    'down': (1, 0),\n",
    "    'left': (0, -1),\n",
    "    'right': (0, 1)\n",
    "}"
   ]
  },
  {
   "cell_type": "code",
   "execution_count": 4,
   "id": "ed1143d2-86bd-4e5b-8fb2-d89b62ae1a18",
   "metadata": {},
   "outputs": [],
   "source": [
    "def check(row, col, action):\n",
    "    dr, dc = action_effects[action]\n",
    "    new_row, new_col = row + dr, col + dc\n",
    "    if new_row < 0 or new_row >= grid.shape[0] or new_col < 0 or new_col >= grid.shape[1]:\n",
    "        return row, col \n",
    "    if grid[new_row, new_col] == 3:\n",
    "        return row, col  \n",
    "    return new_row, new_col"
   ]
  },
  {
   "cell_type": "code",
   "execution_count": 7,
   "id": "7ea6016c-65fe-432d-b926-2dbfad4fb458",
   "metadata": {},
   "outputs": [],
   "source": [
    "def policy_evaluation(policy, value_grid):\n",
    "    while True:\n",
    "        delta = 0\n",
    "        new_value_grid = value_grid.copy()\n",
    "        \n",
    "        for row in range(grid.shape[0]):\n",
    "            for col in range(grid.shape[1]):\n",
    "                cell_type = grid[row, col]\n",
    "                \n",
    "                if cell_type in [1, 2, 3]:\n",
    "                    new_value_grid[row, col] = rewards[cell_type]\n",
    "                    continue\n",
    "                \n",
    "                action = policy[row, col]\n",
    "                next_row, next_col = check(row, col, action)\n",
    "                reward = rewards[grid[next_row, next_col]]\n",
    "                new_value_grid[row, col] = reward + discount_factor * value_grid[next_row, next_col]\n",
    "                \n",
    "                delta = max(delta, abs(new_value_grid[row, col] - value_grid[row, col]))\n",
    "        \n",
    "        value_grid = new_value_grid\n",
    "        if delta < tolerance:\n",
    "            break\n",
    "    return value_grid"
   ]
  },
  {
   "cell_type": "code",
   "execution_count": 8,
   "id": "e1bce52b-6861-46a2-9b21-70cd1dde0ac4",
   "metadata": {},
   "outputs": [],
   "source": [
    "def policy_improvement(policy, value_grid):\n",
    "    policy_stable = True\n",
    "    new_policy = np.full_like(grid, None, dtype=object)\n",
    "    \n",
    "    for row in range(grid.shape[0]):\n",
    "        for col in range(grid.shape[1]):\n",
    "            cell_type = grid[row, col]\n",
    "            \n",
    "            if cell_type in [1, 2, 3]:\n",
    "                continue\n",
    "            \n",
    "            action_values = {}\n",
    "            for action in actions:\n",
    "                next_row, next_col = check(row, col, action)\n",
    "                reward = rewards[grid[next_row, next_col]]\n",
    "                action_value = reward + discount_factor * value_grid[next_row, next_col]\n",
    "                action_values[action] = action_value\n",
    "            \n",
    "            best_action = max(action_values, key=action_values.get)\n",
    "            new_policy[row, col] = best_action\n",
    "            \n",
    "            if best_action != policy[row, col]:\n",
    "                policy_stable = False\n",
    "    \n",
    "    return new_policy, policy_stable"
   ]
  },
  {
   "cell_type": "code",
   "execution_count": 9,
   "id": "142fe64f-b448-4efb-8ca1-d5da0c7061cf",
   "metadata": {},
   "outputs": [],
   "source": [
    "def policy_iteration():\n",
    "    policy = np.full_like(grid, 'up', dtype=object)  \n",
    "    value_grid = np.zeros_like(grid, dtype=float)\n",
    "    iterations = []\n",
    "    values_over_iterations = []\n",
    "    \n",
    "    iteration = 0\n",
    "    while True:\n",
    "        value_grid = policy_evaluation(policy, value_grid)\n",
    "        policy, policy_stable = policy_improvement(policy, value_grid)\n",
    "        \n",
    "        iterations.append(iteration)\n",
    "        values_over_iterations.append(value_grid.copy())\n",
    "        \n",
    "        print(f\"Iteration {iteration}:\\n{value_grid}\\n\")\n",
    "        iteration += 1\n",
    "        \n",
    "        if policy_stable:\n",
    "            break\n",
    "\n",
    "    print(\"Optimal Value Function (Policy Iteration):\")\n",
    "    print(value_grid)\n",
    "    print(\"\\nOptimal Policy (Policy Iteration):\")\n",
    "    print(policy)\n",
    "    return values_over_iterations, iterations"
   ]
  },
  {
   "cell_type": "code",
   "execution_count": 10,
   "id": "b3864df5-e3ae-48a5-98bc-5417d833230b",
   "metadata": {},
   "outputs": [
    {
     "name": "stdout",
     "output_type": "stream",
     "text": [
      "Iteration 0:\n",
      "[[-0.39911259 -0.39911259 -0.39911259  1.        ]\n",
      " [-0.39911259  0.         -0.39911259 -1.        ]\n",
      " [-0.39911259 -0.39911259 -0.39911259 -1.9       ]]\n",
      "\n",
      "Iteration 1:\n",
      "[[-0.39947599 -0.39947599  1.9         1.        ]\n",
      " [-0.39947599  0.          1.67       -1.        ]\n",
      " [-0.39947599 -0.39947599  1.463       1.2767    ]]\n",
      "\n",
      "Iteration 2:\n",
      "[[-0.39957555  1.67        1.9         1.        ]\n",
      " [-0.39957555  0.          1.67       -1.        ]\n",
      " [-0.39957555  1.2767      1.463       1.2767    ]]\n",
      "\n",
      "Iteration 3:\n",
      "[[ 1.463    1.67     1.9      1.     ]\n",
      " [ 1.2767   0.       1.67    -1.     ]\n",
      " [ 1.10903  1.2767   1.463    1.2767 ]]\n",
      "\n",
      "Iteration 4:\n",
      "[[ 1.463    1.67     1.9      1.     ]\n",
      " [ 1.2767   0.       1.67    -1.     ]\n",
      " [ 1.10903  1.2767   1.463    1.2767 ]]\n",
      "\n",
      "Optimal Value Function (Policy Iteration):\n",
      "[[ 1.463    1.67     1.9      1.     ]\n",
      " [ 1.2767   0.       1.67    -1.     ]\n",
      " [ 1.10903  1.2767   1.463    1.2767 ]]\n",
      "\n",
      "Optimal Policy (Policy Iteration):\n",
      "[['right' 'right' 'right' None]\n",
      " ['up' None 'up' None]\n",
      " ['up' 'right' 'up' 'left']]\n"
     ]
    }
   ],
   "source": [
    "values_over_iterations, iterations = policy_iteration()"
   ]
  },
  {
   "cell_type": "code",
   "execution_count": 11,
   "id": "beb5bbb2-92a2-4c9e-bb1c-a12db6830f63",
   "metadata": {},
   "outputs": [
    {
     "data": {
      "image/png": "[encoded data removed]",
      "text/plain": [
       "<Figure size 640x480 with 1 Axes>"
      ]
     },
     "metadata": {},
     "output_type": "display_data"
    }
   ],
   "source": [
    "mean_values = [np.mean(v[v != 0]) for v in values_over_iterations]\n",
    "plt.plot(iterations, mean_values, label=\"Policy Iteration\")\n",
    "plt.xlabel(\"Iterations\")\n",
    "plt.ylabel(\"Mean Value\")\n",
    "plt.title(\"Policy Iteration Convergence\")\n",
    "plt.legend()\n",
    "plt.show()"
   ]
  },
  {
   "cell_type": "markdown",
   "id": "b5fe1591-ec9e-4e93-800e-f62dfe2d5c65",
   "metadata": {},
   "source": [
    "## END"
   ]
  }
 ],
 "metadata": {
  "kernelspec": {
   "display_name": "Python 3 (ipykernel)",
   "language": "python",
   "name": "python3"
  },
  "language_info": {
   "codemirror_mode": {
    "name": "ipython",
    "version": 3
   },
   "file_extension": ".py",
   "mimetype": "text/x-python",
   "name": "python",
   "nbconvert_exporter": "python",
   "pygments_lexer": "ipython3",
   "version": "3.11.7"
  }
 },
 "nbformat": 4,
 "nbformat_minor": 5
}
