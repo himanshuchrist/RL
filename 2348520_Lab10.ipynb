{
 "cells": [
  {
   "cell_type": "markdown",
   "id": "6d4960d2-1d69-42d3-8854-c38a56f4cc2f",
   "metadata": {},
   "source": [
    "## Lab 10: Implement policy gradient methods for policy search"
   ]
  },
  {
   "cell_type": "markdown",
   "id": "35936015-f5eb-401a-81e8-d5d1c251311a",
   "metadata": {},
   "source": [
    "### Initialization"
   ]
  },
  {
   "cell_type": "code",
   "execution_count": 1,
   "id": "86a6c12a-7a32-48c2-8be3-eef5ba42cc90",
   "metadata": {},
   "outputs": [],
   "source": [
    "import numpy as np\n",
    "import matplotlib.pyplot as plt\n",
    "\n",
    "grid_size = 4\n",
    "n_actions = 4\n",
    "gamma = 0.9  \n",
    "alpha = 0.01 \n",
    "n_episodes = 1000\n",
    "\n",
    "actions = ['up', 'down', 'left', 'right']\n",
    "action_effects = {\n",
    "    'up': (-1, 0),\n",
    "    'down': (1, 0),\n",
    "    'left': (0, -1),\n",
    "    'right': (0, 1)\n",
    "}\n",
    "\n",
    "goal_state = (3, 3)\n",
    "reward_goal = 1\n",
    "reward_step = -0.1\n",
    "\n",
    "policy_params = np.random.rand(grid_size, grid_size, n_actions)"
   ]
  },
  {
   "cell_type": "markdown",
   "id": "54798eac-da21-414c-b5d9-fa95d32fcfd3",
   "metadata": {},
   "source": [
    "### Softmax"
   ]
  },
  {
   "cell_type": "code",
   "execution_count": 2,
   "id": "0923b6ab-1ba8-4823-a533-12b04e5c8ecb",
   "metadata": {},
   "outputs": [],
   "source": [
    "def softmax(x):\n",
    "    exp_x = np.exp(x - np.max(x)) \n",
    "    return exp_x / exp_x.sum(axis=-1, keepdims=True)"
   ]
  },
  {
   "cell_type": "markdown",
   "id": "11c12e45-8cf2-4698-a20f-e6aa0ecc066d",
   "metadata": {},
   "source": [
    "### Action"
   ]
  },
  {
   "cell_type": "code",
   "execution_count": 3,
   "id": "ddad84b4-997d-4775-9349-b9bea228ebfb",
   "metadata": {},
   "outputs": [],
   "source": [
    "def get_action(state):\n",
    "    row, col = state\n",
    "    probs = softmax(policy_params[row, col])\n",
    "    action_idx = np.random.choice(len(probs), p=probs)\n",
    "    return actions[action_idx], action_idx"
   ]
  },
  {
   "cell_type": "markdown",
   "id": "0908a5fc-3a75-40d5-bffa-99d6f9fb590f",
   "metadata": {},
   "source": [
    "### State"
   ]
  },
  {
   "cell_type": "code",
   "execution_count": 4,
   "id": "0c0f0b87-a912-43f1-88f3-e6c7542b8b42",
   "metadata": {},
   "outputs": [],
   "source": [
    "def get_next_state(state, action):\n",
    "    row, col = state\n",
    "    dr, dc = action_effects[action]\n",
    "    new_row, new_col = row + dr, col + dc\n",
    "    if new_row < 0 or new_row >= grid_size or new_col < 0 or new_col >= grid_size:\n",
    "        return state \n",
    "    return (new_row, new_col)"
   ]
  },
  {
   "cell_type": "markdown",
   "id": "586763da-38ef-46e4-ad31-235e193cbcbb",
   "metadata": {},
   "source": [
    "### Episode"
   ]
  },
  {
   "cell_type": "code",
   "execution_count": 5,
   "id": "bfb7ecca-b61a-4355-8117-89844335ee36",
   "metadata": {},
   "outputs": [],
   "source": [
    "def generate_episode():\n",
    "    state = (0, 0)  \n",
    "    episode = [] \n",
    "    while state != goal_state:\n",
    "        action, action_idx = get_action(state)\n",
    "        next_state = get_next_state(state, action)\n",
    "        reward = reward_goal if next_state == goal_state else reward_step\n",
    "        episode.append((state, action_idx, reward))\n",
    "        state = next_state\n",
    "    return episode"
   ]
  },
  {
   "cell_type": "markdown",
   "id": "4a6c084e-04b8-4b36-9fae-db69639043d6",
   "metadata": {},
   "source": [
    "### Policy Update"
   ]
  },
  {
   "cell_type": "code",
   "execution_count": 6,
   "id": "e20e41b9-f758-4770-9eec-fbc05d0b861f",
   "metadata": {},
   "outputs": [],
   "source": [
    "def update_policy(episode):\n",
    "    global policy_params\n",
    "    G = 0  \n",
    "    for t in reversed(range(len(episode))):\n",
    "        state, action_idx, reward = episode[t]\n",
    "        G = reward + gamma * G \n",
    "        row, col = state\n",
    "\n",
    "        probs = softmax(policy_params[row, col])\n",
    "        grad_log = -probs  \n",
    "        grad_log[action_idx] += 1 \n",
    "        policy_params[row, col] += alpha * G * grad_log"
   ]
  },
  {
   "cell_type": "markdown",
   "id": "16738d6b-eb59-42ee-af27-6268548583a1",
   "metadata": {},
   "source": [
    "### Training"
   ]
  },
  {
   "cell_type": "code",
   "execution_count": 7,
   "id": "3336a646-872e-496e-a12b-795c6608bb10",
   "metadata": {},
   "outputs": [
    {
     "name": "stdout",
     "output_type": "stream",
     "text": [
      "Episode 0 completed.\n",
      "Episode 100 completed.\n",
      "Episode 200 completed.\n",
      "Episode 300 completed.\n",
      "Episode 400 completed.\n",
      "Episode 500 completed.\n",
      "Episode 600 completed.\n",
      "Episode 700 completed.\n",
      "Episode 800 completed.\n",
      "Episode 900 completed.\n"
     ]
    }
   ],
   "source": [
    "for episode_num in range(n_episodes):\n",
    "    episode = generate_episode()\n",
    "    update_policy(episode)\n",
    "    if episode_num % 100 == 0:\n",
    "        print(f\"Episode {episode_num} completed.\")"
   ]
  },
  {
   "cell_type": "markdown",
   "id": "b0be39db-4170-4185-a311-75ac292dd47d",
   "metadata": {},
   "source": [
    "### Visualisation"
   ]
  },
  {
   "cell_type": "code",
   "execution_count": 10,
   "id": "4f6af649-28e3-41f0-9375-751ff866b6cb",
   "metadata": {},
   "outputs": [
    {
     "data": {
      "image/png": "[encoded data removed]",
      "text/plain": [
       "<Figure size 800x800 with 1 Axes>"
      ]
     },
     "metadata": {},
     "output_type": "display_data"
    }
   ],
   "source": [
    "import matplotlib.pyplot as plt\n",
    "plt.figure(figsize=(8, 8))\n",
    "for row in range(grid_size):\n",
    "    for col in range(grid_size):\n",
    "        if (row, col) == goal_state:\n",
    "            plt.text(col, row, \"G\", ha='center', va='center', fontsize=16, color='green')\n",
    "        else:\n",
    "            probs = softmax(policy_params[row, col])\n",
    "            action = actions[np.argmax(probs)]\n",
    "            arrow = {\"up\": \"↑\", \"down\": \"↓\", \"left\": \"←\", \"right\": \"→\"}[action]\n",
    "            plt.text(col, row, arrow, ha='center', va='center', fontsize=16)\n",
    "plt.title(\"Learned Policy (Arrows)\")\n",
    "plt.xticks(range(grid_size))\n",
    "plt.yticks(range(grid_size))\n",
    "plt.gca().invert_yaxis()\n",
    "plt.grid(True)\n",
    "plt.show()"
   ]
  },
  {
   "cell_type": "markdown",
   "id": "4cc883b1-042d-4677-b1ad-fcb9f1e3954d",
   "metadata": {},
   "source": [
    "## END"
   ]
  }
 ],
 "metadata": {
  "kernelspec": {
   "display_name": "Python 3 (ipykernel)",
   "language": "python",
   "name": "python3"
  },
  "language_info": {
   "codemirror_mode": {
    "name": "ipython",
    "version": 3
   },
   "file_extension": ".py",
   "mimetype": "text/x-python",
   "name": "python",
   "nbconvert_exporter": "python",
   "pygments_lexer": "ipython3",
   "version": "3.11.7"
  }
 },
 "nbformat": 4,
 "nbformat_minor": 5
}
