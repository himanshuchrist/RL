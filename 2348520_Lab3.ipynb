{
 "cells": [
  {
   "cell_type": "markdown",
   "id": "a7c79155-4666-4f35-8066-71af4eb45f26",
   "metadata": {},
   "source": [
    "## Lab 3: Implement Markov Decision Process (MDP) Simulation and Value Iteration"
   ]
  },
  {
   "cell_type": "code",
   "execution_count": 1,
   "id": "2ed3bebb-bd47-4e59-96bc-8476ec01a385",
   "metadata": {},
   "outputs": [],
   "source": [
    "import numpy as np\n",
    "grid = np.array([\n",
    "    [0, 0, 0, 1],\n",
    "    [0, 3, 0, 2],\n",
    "    [0, 0, 0, 0]\n",
    "])\n",
    "rewards = {0: -0.04, 1: 1, 2: -1, 3: 0}\n",
    "discount_factor = 0.9\n",
    "tolerance = 1e-4\n",
    "actions = ['up', 'down', 'left', 'right']\n",
    "action_effects = {\n",
    "    'up': (-1, 0),\n",
    "    'down': (1, 0),\n",
    "    'left': (0, -1),\n",
    "    'right': (0, 1)\n",
    "}"
   ]
  },
  {
   "cell_type": "code",
   "execution_count": 2,
   "id": "9246cbf4-db23-4345-b671-8a1e98afe924",
   "metadata": {},
   "outputs": [],
   "source": [
    "def check(row, col, action):\n",
    "    dr, dc = action_effects[action]\n",
    "    new_row, new_col = row + dr, col + dc\n",
    "    if new_row < 0 or new_row >= grid.shape[0] or new_col < 0 or new_col >= grid.shape[1]:\n",
    "        return row, col  \n",
    "    if grid[new_row, new_col] == 3:\n",
    "        return row, col \n",
    "    return new_row, new_col"
   ]
  },
  {
   "cell_type": "code",
   "execution_count": 12,
   "id": "ed040d60-edae-4ced-9bbb-41f9ace36c61",
   "metadata": {},
   "outputs": [],
   "source": [
    "def value_iteration():\n",
    "    value_grid = np.zeros_like(grid, dtype=float)\n",
    "    policy_grid = np.full_like(grid, None, dtype=object)\n",
    "    iterations = []\n",
    "    values_over_iterations = []\n",
    "    \n",
    "    iteration = 0\n",
    "    while True:\n",
    "        delta = 0\n",
    "        new_value_grid = value_grid.copy()\n",
    "        \n",
    "        for row in range(grid.shape[0]):\n",
    "            for col in range(grid.shape[1]):\n",
    "                cell_type = grid[row, col]\n",
    "                if cell_type in [1, 2, 3]:\n",
    "                    new_value_grid[row, col] = rewards[cell_type]\n",
    "                    continue\n",
    "                \n",
    "                action_values = {}\n",
    "                for action in actions:\n",
    "                    next_row, next_col = check(row, col, action)\n",
    "                    reward = rewards[grid[next_row, next_col]]\n",
    "                    action_value = reward + discount_factor * value_grid[next_row, next_col]\n",
    "                    action_values[action] = action_value\n",
    "                \n",
    "                best_action = max(action_values, key=action_values.get)\n",
    "                best_value = action_values[best_action]\n",
    "                \n",
    "                policy_grid[row, col] = best_action\n",
    "                new_value_grid[row, col] = best_value\n",
    "                delta = max(delta, abs(value_grid[row, col] - best_value))\n",
    "        \n",
    "        value_grid = new_value_grid\n",
    "        iterations.append(iteration)\n",
    "        values_over_iterations.append(value_grid.copy())\n",
    "        \n",
    "        print(f\"Iteration {iteration}:\\n{value_grid}\\n\")\n",
    "        iteration += 1\n",
    "        \n",
    "        if delta < tolerance:\n",
    "            break\n",
    "\n",
    "    print(\"Optimal Value Function (Value Iteration):\")\n",
    "    print(value_grid)\n",
    "    print(\"\\nOptimal Policy (Value Iteration):\")\n",
    "    print(policy_grid)\n",
    "    return values_over_iterations, iterations"
   ]
  },
  {
   "cell_type": "code",
   "execution_count": 14,
   "id": "9a8b8f0a-3d99-42e8-b7b5-715697899dc1",
   "metadata": {},
   "outputs": [
    {
     "name": "stdout",
     "output_type": "stream",
     "text": [
      "Iteration 0:\n",
      "[[-0.04 -0.04  1.    1.  ]\n",
      " [-0.04  0.   -0.04 -1.  ]\n",
      " [-0.04 -0.04 -0.04 -0.04]]\n",
      "\n",
      "Iteration 1:\n",
      "[[-0.076  0.86   1.9    1.   ]\n",
      " [-0.076  0.     0.86  -1.   ]\n",
      " [-0.076 -0.076 -0.076 -0.076]]\n",
      "\n",
      "Iteration 2:\n",
      "[[ 0.734   1.67    1.9     1.    ]\n",
      " [-0.1084  0.      1.67   -1.    ]\n",
      " [-0.1084 -0.1084  0.734  -0.1084]]\n",
      "\n",
      "Iteration 3:\n",
      "[[ 1.463    1.67     1.9      1.     ]\n",
      " [ 0.6206   0.       1.67    -1.     ]\n",
      " [-0.13756  0.6206   1.463    0.6206 ]]\n",
      "\n",
      "Iteration 4:\n",
      "[[ 1.463    1.67     1.9      1.     ]\n",
      " [ 1.2767   0.       1.67    -1.     ]\n",
      " [ 0.51854  1.2767   1.463    1.2767 ]]\n",
      "\n",
      "Iteration 5:\n",
      "[[ 1.463    1.67     1.9      1.     ]\n",
      " [ 1.2767   0.       1.67    -1.     ]\n",
      " [ 1.10903  1.2767   1.463    1.2767 ]]\n",
      "\n",
      "Iteration 6:\n",
      "[[ 1.463    1.67     1.9      1.     ]\n",
      " [ 1.2767   0.       1.67    -1.     ]\n",
      " [ 1.10903  1.2767   1.463    1.2767 ]]\n",
      "\n",
      "Optimal Value Function (Value Iteration):\n",
      "[[ 1.463    1.67     1.9      1.     ]\n",
      " [ 1.2767   0.       1.67    -1.     ]\n",
      " [ 1.10903  1.2767   1.463    1.2767 ]]\n",
      "\n",
      "Optimal Policy (Value Iteration):\n",
      "[['right' 'right' 'right' None]\n",
      " ['up' None 'up' None]\n",
      " ['up' 'right' 'up' 'left']]\n"
     ]
    }
   ],
   "source": [
    "values_over_iterations, iterations = value_iteration()"
   ]
  },
  {
   "cell_type": "code",
   "execution_count": 15,
   "id": "e3bf54d5-e796-470c-8594-28d7ce6ae9b9",
   "metadata": {},
   "outputs": [
    {
     "data": {
      "image/png": "[encoded data removed]",
      "text/plain": [
       "<Figure size 640x480 with 1 Axes>"
      ]
     },
     "metadata": {},
     "output_type": "display_data"
    }
   ],
   "source": [
    "import matplotlib.pyplot as plt\n",
    "mean_values = [np.mean(v[v != 0]) for v in values_over_iterations]\n",
    "plt.plot(iterations, mean_values, label=\"Value Iteration\")\n",
    "plt.xlabel(\"Iterations\")\n",
    "plt.ylabel(\"Mean Value\")\n",
    "plt.title(\"Value Iteration Convergence\")\n",
    "plt.legend()\n",
    "plt.show()"
   ]
  },
  {
   "cell_type": "markdown",
   "id": "2c3e3f2b-4018-47b4-b37e-6271d57b21fe",
   "metadata": {},
   "source": [
    "## End"
   ]
  }
 ],
 "metadata": {
  "kernelspec": {
   "display_name": "Python 3 (ipykernel)",
   "language": "python",
   "name": "python3"
  },
  "language_info": {
   "codemirror_mode": {
    "name": "ipython",
    "version": 3
   },
   "file_extension": ".py",
   "mimetype": "text/x-python",
   "name": "python",
   "nbconvert_exporter": "python",
   "pygments_lexer": "ipython3",
   "version": "3.11.7"
  }
 },
 "nbformat": 4,
 "nbformat_minor": 5
}
