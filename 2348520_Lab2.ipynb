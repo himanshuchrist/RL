{
 "cells": [
  {
   "cell_type": "markdown",
   "id": "dd451fd0-4063-4c4f-b1d3-24139f4f05d3",
   "metadata": {},
   "source": [
    "## Implement Tracking Nonstationary Bandit Problem"
   ]
  },
  {
   "cell_type": "markdown",
   "id": "6963c69c-5113-4263-ae73-fa6c9b6724c1",
   "metadata": {},
   "source": [
    "### Initialise all parameters "
   ]
  },
  {
   "cell_type": "code",
   "execution_count": 44,
   "id": "204aa6e4-76ff-4d2a-99af-72536586949a",
   "metadata": {},
   "outputs": [],
   "source": [
    "import numpy as np\n",
    "import random\n",
    "n=1000\n",
    "arms=4\n",
    "epsilon=0.1\n",
    "decay=0.1\n",
    "rewards=np.random.rand(arms)\n",
    "reward_history=np.zeros(n)\n",
    "chosen_arm=np.zeros(n,dtype=int)\n",
    "Q_value=np.random.rand(arms)\n",
    "count=np.zeros(arms)"
   ]
  },
  {
   "cell_type": "markdown",
   "id": "d4421add-c3be-4011-96f2-90163334386d",
   "metadata": {},
   "source": [
    "### Calculate reward"
   ]
  },
  {
   "cell_type": "code",
   "execution_count": 45,
   "id": "0d0dc0f8-a982-4cb6-af65-78b437978565",
   "metadata": {},
   "outputs": [
    {
     "name": "stdout",
     "output_type": "stream",
     "text": [
      "True rewards of arms: [0.27387269 0.41037768 0.71744274 0.19671817]\n",
      "Estimated rewards of arms: [0.21823427 0.3085054  0.85241322 0.14855566]\n",
      "Times each arm was chosen: [109.  33. 733. 125.]\n",
      "Total reward collected: 628.0\n"
     ]
    }
   ],
   "source": [
    "for i in range(n):\n",
    "    if random.random()<epsilon:\n",
    "        arm=random.randint(0,arms-1)\n",
    "    else:\n",
    "        arm=np.argmax(Q_value)\n",
    "    if i // 200 == 0:\n",
    "        rewards[arm] = np.random.rand(1)\n",
    "    reward=np.random.binomial(1, rewards[arm])\n",
    "    count[arm]+=1\n",
    "    Q_value[arm] = decay * reward + (1-decay) * Q_value[arm]\n",
    "    # Q_value[arm]+=decay*(reward-Q_value[arm])\n",
    "    chosen_arm[i]=arm\n",
    "    reward_history[i]=reward\n",
    "print(\"True rewards of arms:\", rewards)\n",
    "print(\"Estimated rewards of arms:\", Q_value)\n",
    "print(\"Times each arm was chosen:\", count)\n",
    "print(\"Total reward collected:\", np.sum(reward_history))"
   ]
  },
  {
   "cell_type": "markdown",
   "id": "70139aa7-fd2e-42cb-a8bd-776bc8a19614",
   "metadata": {},
   "source": [
    "## END"
   ]
  }
 ],
 "metadata": {
  "kernelspec": {
   "display_name": "Python 3 (ipykernel)",
   "language": "python",
   "name": "python3"
  },
  "language_info": {
   "codemirror_mode": {
    "name": "ipython",
    "version": 3
   },
   "file_extension": ".py",
   "mimetype": "text/x-python",
   "name": "python",
   "nbconvert_exporter": "python",
   "pygments_lexer": "ipython3",
   "version": "3.11.7"
  }
 },
 "nbformat": 4,
 "nbformat_minor": 5
}
